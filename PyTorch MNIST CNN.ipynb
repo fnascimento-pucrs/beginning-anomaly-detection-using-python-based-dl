{
 "cells": [
  {
   "cell_type": "code",
   "execution_count": 1,
   "metadata": {},
   "outputs": [],
   "source": [
    "import torch\n",
    "import torch.nn as nn\n",
    "import torchvision\n",
    "import torchvision.transforms as transforms\n",
    "import torch.optim as optim\n",
    "import torch.nn.functional as F\n",
    "import numpy as np\n",
    "\n",
    "\n",
    "#If cuda device exists, use that. If not, default to CPU.\n",
    "device = torch.device('cuda:0' if torch.cuda.is_available() else 'cpu')"
   ]
  },
  {
   "cell_type": "code",
   "execution_count": 2,
   "metadata": {},
   "outputs": [],
   "source": [
    "#Hyperparameters\n",
    "num_epochs = 15\n",
    "num_classes = 10\n",
    "batch_size = 128\n",
    "learning_rate = 0.001"
   ]
  },
  {
   "cell_type": "code",
   "execution_count": 3,
   "metadata": {},
   "outputs": [
    {
     "name": "stdout",
     "output_type": "stream",
     "text": [
      "Downloading http://yann.lecun.com/exdb/mnist/train-images-idx3-ubyte.gz\n",
      "Downloading http://yann.lecun.com/exdb/mnist/train-images-idx3-ubyte.gz to ../../data/MNIST/raw/train-images-idx3-ubyte.gz\n"
     ]
    },
    {
     "data": {
      "application/vnd.jupyter.widget-view+json": {
       "model_id": "484036f5aa564ea59dc62c9cc637e4c3",
       "version_major": 2,
       "version_minor": 0
      },
      "text/plain": [
       "  0%|          | 0/9912422 [00:00<?, ?it/s]"
      ]
     },
     "metadata": {},
     "output_type": "display_data"
    },
    {
     "name": "stdout",
     "output_type": "stream",
     "text": [
      "Extracting ../../data/MNIST/raw/train-images-idx3-ubyte.gz to ../../data/MNIST/raw\n",
      "\n",
      "Downloading http://yann.lecun.com/exdb/mnist/train-labels-idx1-ubyte.gz\n",
      "Downloading http://yann.lecun.com/exdb/mnist/train-labels-idx1-ubyte.gz to ../../data/MNIST/raw/train-labels-idx1-ubyte.gz\n"
     ]
    },
    {
     "data": {
      "application/vnd.jupyter.widget-view+json": {
       "model_id": "c3af5c033f4d445baa30c5bc0a6abb0f",
       "version_major": 2,
       "version_minor": 0
      },
      "text/plain": [
       "  0%|          | 0/28881 [00:00<?, ?it/s]"
      ]
     },
     "metadata": {},
     "output_type": "display_data"
    },
    {
     "name": "stdout",
     "output_type": "stream",
     "text": [
      "Extracting ../../data/MNIST/raw/train-labels-idx1-ubyte.gz to ../../data/MNIST/raw\n",
      "\n",
      "Downloading http://yann.lecun.com/exdb/mnist/t10k-images-idx3-ubyte.gz\n",
      "Downloading http://yann.lecun.com/exdb/mnist/t10k-images-idx3-ubyte.gz to ../../data/MNIST/raw/t10k-images-idx3-ubyte.gz\n"
     ]
    },
    {
     "data": {
      "application/vnd.jupyter.widget-view+json": {
       "model_id": "af52c35f12884534ba37ba6b2a5b9edc",
       "version_major": 2,
       "version_minor": 0
      },
      "text/plain": [
       "  0%|          | 0/1648877 [00:00<?, ?it/s]"
      ]
     },
     "metadata": {},
     "output_type": "display_data"
    },
    {
     "name": "stdout",
     "output_type": "stream",
     "text": [
      "Extracting ../../data/MNIST/raw/t10k-images-idx3-ubyte.gz to ../../data/MNIST/raw\n",
      "\n",
      "Downloading http://yann.lecun.com/exdb/mnist/t10k-labels-idx1-ubyte.gz\n",
      "Downloading http://yann.lecun.com/exdb/mnist/t10k-labels-idx1-ubyte.gz to ../../data/MNIST/raw/t10k-labels-idx1-ubyte.gz\n"
     ]
    },
    {
     "data": {
      "application/vnd.jupyter.widget-view+json": {
       "model_id": "0b88a27d36744829a5e69854ee03a70c",
       "version_major": 2,
       "version_minor": 0
      },
      "text/plain": [
       "  0%|          | 0/4542 [00:00<?, ?it/s]"
      ]
     },
     "metadata": {},
     "output_type": "display_data"
    },
    {
     "name": "stdout",
     "output_type": "stream",
     "text": [
      "Extracting ../../data/MNIST/raw/t10k-labels-idx1-ubyte.gz to ../../data/MNIST/raw\n",
      "\n"
     ]
    }
   ],
   "source": [
    "#Load MNIST data set\n",
    "train_dataset = torchvision.datasets.MNIST(root='../../data/',\n",
    "                                           train=True, \n",
    "                                           transform=transforms.ToTensor(),\n",
    "                                           download=True)\n",
    "\n",
    "test_dataset = torchvision.datasets.MNIST(root='../../data/',\n",
    "                                          train=False, \n",
    "                                          transform=transforms.ToTensor())\n",
    "\n",
    "#Data loader\n",
    "train_loader = torch.utils.data.DataLoader(dataset=train_dataset,\n",
    "                                           batch_size=batch_size, \n",
    "                                           shuffle=True)\n",
    "\n",
    "test_loader = torch.utils.data.DataLoader(dataset=test_dataset,\n",
    "                                          batch_size=batch_size, \n",
    "                                          shuffle=False)"
   ]
  },
  {
   "cell_type": "code",
   "execution_count": 4,
   "metadata": {},
   "outputs": [],
   "source": [
    "class CNN(nn.Module):\n",
    "    def __init__(self):\n",
    "        super(CNN, self).__init__()\n",
    "        self.conv1 = nn.Conv2d(1, 32, 3, 1)\n",
    "        self.conv2 = nn.Conv2d(32, 64, 3, 1)\n",
    "        self.dense1 = nn.Linear(12*12*64, 128)\n",
    "        self.dense2 = nn.Linear(128, num_classes)\n",
    "\n",
    "    def forward(self, x):\n",
    "        x = F.relu(self.conv1(x))\n",
    "        x = F.relu(self.conv2(x))\n",
    "        x = F.max_pool2d(x, 2, 2)\n",
    "        x = F.dropout(x, 0.25)\n",
    "        x = x.view(-1, 12*12*64)\n",
    "        x = F.relu(self.dense1(x))\n",
    "        x = F.dropout(x, 0.5)\n",
    "        x = self.dense2(x)\n",
    "        return F.log_softmax(x, dim=1)\n",
    "    \n"
   ]
  },
  {
   "cell_type": "code",
   "execution_count": 5,
   "metadata": {},
   "outputs": [
    {
     "name": "stdout",
     "output_type": "stream",
     "text": [
      "Epoch [1/15], Step [100/469], Loss: 0.3744\n",
      "Epoch [1/15], Step [200/469], Loss: 0.2304\n",
      "Epoch [1/15], Step [300/469], Loss: 0.1669\n",
      "Epoch [1/15], Step [400/469], Loss: 0.2249\n",
      "Epoch [2/15], Step [100/469], Loss: 0.1670\n",
      "Epoch [2/15], Step [200/469], Loss: 0.0870\n",
      "Epoch [2/15], Step [300/469], Loss: 0.0538\n",
      "Epoch [2/15], Step [400/469], Loss: 0.1994\n",
      "Epoch [3/15], Step [100/469], Loss: 0.0366\n",
      "Epoch [3/15], Step [200/469], Loss: 0.0229\n",
      "Epoch [3/15], Step [300/469], Loss: 0.0576\n",
      "Epoch [3/15], Step [400/469], Loss: 0.0338\n",
      "Epoch [4/15], Step [100/469], Loss: 0.1012\n",
      "Epoch [4/15], Step [200/469], Loss: 0.0616\n",
      "Epoch [4/15], Step [300/469], Loss: 0.0172\n",
      "Epoch [4/15], Step [400/469], Loss: 0.0462\n",
      "Epoch [5/15], Step [100/469], Loss: 0.0732\n",
      "Epoch [5/15], Step [200/469], Loss: 0.1537\n",
      "Epoch [5/15], Step [300/469], Loss: 0.0365\n",
      "Epoch [5/15], Step [400/469], Loss: 0.0205\n",
      "Epoch [6/15], Step [100/469], Loss: 0.1060\n",
      "Epoch [6/15], Step [200/469], Loss: 0.0367\n",
      "Epoch [6/15], Step [300/469], Loss: 0.0459\n",
      "Epoch [6/15], Step [400/469], Loss: 0.0508\n",
      "Epoch [7/15], Step [100/469], Loss: 0.0211\n",
      "Epoch [7/15], Step [200/469], Loss: 0.0351\n",
      "Epoch [7/15], Step [300/469], Loss: 0.0544\n",
      "Epoch [7/15], Step [400/469], Loss: 0.0182\n",
      "Epoch [8/15], Step [100/469], Loss: 0.0301\n",
      "Epoch [8/15], Step [200/469], Loss: 0.0215\n",
      "Epoch [8/15], Step [300/469], Loss: 0.0262\n",
      "Epoch [8/15], Step [400/469], Loss: 0.0224\n",
      "Epoch [9/15], Step [100/469], Loss: 0.0337\n",
      "Epoch [9/15], Step [200/469], Loss: 0.0248\n",
      "Epoch [9/15], Step [300/469], Loss: 0.0083\n",
      "Epoch [9/15], Step [400/469], Loss: 0.1109\n",
      "Epoch [10/15], Step [100/469], Loss: 0.0353\n",
      "Epoch [10/15], Step [200/469], Loss: 0.0075\n",
      "Epoch [10/15], Step [300/469], Loss: 0.0709\n",
      "Epoch [10/15], Step [400/469], Loss: 0.0576\n",
      "Epoch [11/15], Step [100/469], Loss: 0.0222\n",
      "Epoch [11/15], Step [200/469], Loss: 0.0297\n",
      "Epoch [11/15], Step [300/469], Loss: 0.0487\n",
      "Epoch [11/15], Step [400/469], Loss: 0.0113\n",
      "Epoch [12/15], Step [100/469], Loss: 0.0312\n",
      "Epoch [12/15], Step [200/469], Loss: 0.0388\n",
      "Epoch [12/15], Step [300/469], Loss: 0.0138\n",
      "Epoch [12/15], Step [400/469], Loss: 0.0119\n",
      "Epoch [13/15], Step [100/469], Loss: 0.0125\n",
      "Epoch [13/15], Step [200/469], Loss: 0.0310\n",
      "Epoch [13/15], Step [300/469], Loss: 0.0264\n",
      "Epoch [13/15], Step [400/469], Loss: 0.0201\n",
      "Epoch [14/15], Step [100/469], Loss: 0.0483\n",
      "Epoch [14/15], Step [200/469], Loss: 0.0283\n",
      "Epoch [14/15], Step [300/469], Loss: 0.0042\n",
      "Epoch [14/15], Step [400/469], Loss: 0.0040\n",
      "Epoch [15/15], Step [100/469], Loss: 0.0064\n",
      "Epoch [15/15], Step [200/469], Loss: 0.0463\n",
      "Epoch [15/15], Step [300/469], Loss: 0.0407\n",
      "Epoch [15/15], Step [400/469], Loss: 0.0056\n"
     ]
    }
   ],
   "source": [
    "model = CNN().to(device)\n",
    "criterion = nn.CrossEntropyLoss()\n",
    "optimizer = torch.optim.Adam(model.parameters(), lr=learning_rate)\n",
    "\n",
    "total_step = len(train_loader)\n",
    "for epoch in range(num_epochs):\n",
    "    for i, (images, labels) in enumerate(train_loader):\n",
    "        images = images.to(device)\n",
    "        labels = labels.to(device)\n",
    "        \n",
    "        # Forward pass\n",
    "        outputs = model(images)\n",
    "        loss = criterion(outputs, labels)\n",
    "        \n",
    "        # Backward and optimize\n",
    "        optimizer.zero_grad()\n",
    "        loss.backward()\n",
    "        optimizer.step()\n",
    "        \n",
    "        if (i+1) % 100 == 0:\n",
    "            print ('Epoch [{}/{}], Step [{}/{}], Loss: {:.4f}' \n",
    "                   .format(epoch+1, num_epochs, i+1, total_step, loss.item()))\n"
   ]
  },
  {
   "cell_type": "code",
   "execution_count": 6,
   "metadata": {},
   "outputs": [
    {
     "name": "stdout",
     "output_type": "stream",
     "text": [
      "Test Accuracy of the model on the 10000 test images: 98.45%\n",
      "AUC: 99.13%\n"
     ]
    }
   ],
   "source": [
    "from sklearn.metrics import roc_auc_score\n",
    "\n",
    "preds = []\n",
    "y_true = []\n",
    "# Test the model\n",
    "model.eval()  # Set model to evaluation mode.\n",
    "with torch.no_grad():\n",
    "    correct = 0\n",
    "    total = 0\n",
    "    for images, labels in test_loader:\n",
    "        images = images.to(device)\n",
    "        labels = labels.to(device)\n",
    "        outputs = model(images)\n",
    "        _, predicted = torch.max(outputs.data, 1)\n",
    "        total += labels.size(0)\n",
    "        correct += (predicted == labels).sum().item()    \n",
    "        detached_pred = predicted.detach().cpu().numpy()\n",
    "        detached_label = labels.detach().cpu().numpy()\n",
    "        for f in range(0, len(detached_pred)):\n",
    "            preds.append(detached_pred[f])\n",
    "            y_true.append(detached_label[f])\n",
    "        \n",
    "    print('Test Accuracy of the model on the 10000 test images: {:.2%}'.format(correct / total))\n",
    "    \n",
    "    preds = np.eye(num_classes)[preds]\n",
    "    y_true = np.eye(num_classes)[y_true]    \n",
    "    auc = roc_auc_score(preds, y_true)\n",
    "    print(\"AUC: {:.2%}\".format (auc))\n",
    "# Save the model checkpoint\n",
    "torch.save(model.state_dict(), 'pytorch_mnist_cnn.ckpt')"
   ]
  },
  {
   "cell_type": "code",
   "execution_count": 7,
   "metadata": {},
   "outputs": [
    {
     "name": "stdout",
     "output_type": "stream",
     "text": [
      "[[ True  True  True ...  True  True  True]\n",
      " [ True  True  True ...  True  True  True]\n",
      " [ True  True  True ...  True  True  True]\n",
      " ...\n",
      " [ True  True  True ...  True  True  True]\n",
      " [ True  True  True ...  True  True  True]\n",
      " [ True  True  True ...  True  True  True]]\n",
      "AUC: 99.18%\n"
     ]
    }
   ],
   "source": [
    "with torch.no_grad():\n",
    "    correct = 0\n",
    "    total = 0\n",
    "    predss = []\n",
    "    matches = []\n",
    "    for images, labels in test_loader:\n",
    "        images = images.to(device)\n",
    "        labels = labels.to(device)\n",
    "        outputs = model(images)\n",
    "        _, predicted = torch.max(outputs.data, 1)\n",
    "        total += labels.size(0)\n",
    "        correct += (predicted == labels).sum().item()\n",
    "        \n",
    "        for f in range(0, len(predicted.detach().cpu().numpy())):\n",
    "            predss.append(predicted.detach().cpu().numpy()[f])\n",
    "            matches.append(labels.detach().cpu().numpy()[f])\n",
    "            \n",
    "#     preds = np.eye(num_classes)[predicted.detach().cpu().numpy()]\n",
    "#     y_true = np.eye(num_classes)[labels.detach().cpu().numpy()]\n",
    "#     print(predss, matches)\n",
    "    preds = np.eye(num_classes)[predss]\n",
    "    y_true = np.eye(num_classes)[matches]\n",
    "    \n",
    "    print(preds == y_true)\n",
    "    auc = roc_auc_score(preds, y_true)\n",
    "    print(\"AUC: {:.2%}\".format (auc))"
   ]
  },
  {
   "cell_type": "code",
   "execution_count": 8,
   "metadata": {},
   "outputs": [],
   "source": [
    "# Convolutional neural network (two convolutional layers)\n",
    "class ConvNet(nn.Module):\n",
    "    \n",
    "    \n",
    "    def __init__(self, num_classes=10):\n",
    "        super(ConvNet, self).__init__()\n",
    "        self.layer1 = nn.Sequential(\n",
    "            nn.Conv2d(1, 32, kernel_size=3, stride=1, padding=0),\n",
    "#             nn.BatchNorm2d(16),\n",
    "            nn.ReLU())\n",
    "#             nn.MaxPool2d(kernel_size=2, stride=2))\n",
    "        self.layer2 = nn.Sequential(\n",
    "            nn.Conv2d(32, 64, kernel_size=5, stride=1, padding=2),\n",
    "            nn.BatchNorm2d(16),\n",
    "            nn.ReLU(),\n",
    "            nn.MaxPool2d(kernel_size=2, stride=2))\n",
    "        self.layer3 = nn.Sequential(\n",
    "            \n",
    "        \n",
    "        )\n",
    "        self.fc = nn.Linear(7*7*32, num_classes)\n",
    "        \n",
    "    def forward(self, x):\n",
    "        out = self.layer1(x)\n",
    "        out = self.layer2(out)\n",
    "        out = out.reshape(out.size(0), -1)\n",
    "        out = self.fc(out)\n",
    "        return out\n",
    "\n",
    "model = ConvNet(num_classes).to(device)"
   ]
  },
  {
   "cell_type": "code",
   "execution_count": null,
   "metadata": {},
   "outputs": [],
   "source": []
  }
 ],
 "metadata": {
  "kernelspec": {
   "display_name": "Python 3 (ipykernel)",
   "language": "python",
   "name": "python3"
  },
  "language_info": {
   "codemirror_mode": {
    "name": "ipython",
    "version": 3
   },
   "file_extension": ".py",
   "mimetype": "text/x-python",
   "name": "python",
   "nbconvert_exporter": "python",
   "pygments_lexer": "ipython3",
   "version": "3.8.13"
  }
 },
 "nbformat": 4,
 "nbformat_minor": 4
}
