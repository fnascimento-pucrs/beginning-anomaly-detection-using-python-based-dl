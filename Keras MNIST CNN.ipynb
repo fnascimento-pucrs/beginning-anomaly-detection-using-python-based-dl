{
 "cells": [
  {
   "cell_type": "code",
   "execution_count": 1,
   "metadata": {},
   "outputs": [],
   "source": [
    "import tensorflow as tf\n",
    "import keras\n",
    "from keras.datasets import mnist\n",
    "from keras.models import Sequential\n",
    "from keras.layers import Dense, Dropout, Flatten, Input\n",
    "from keras.layers import Conv2D, MaxPooling2D\n",
    "from keras import backend as K\n",
    "from keras.callbacks import ModelCheckpoint\n",
    "\n",
    "import numpy as np"
   ]
  },
  {
   "cell_type": "code",
   "execution_count": 2,
   "metadata": {},
   "outputs": [],
   "source": [
    "batch_size = 128\n",
    "n_classes = 10\n",
    "n_epochs = 15\n",
    "\n",
    "im_row, im_col = 28, 28"
   ]
  },
  {
   "cell_type": "code",
   "execution_count": 3,
   "metadata": {},
   "outputs": [],
   "source": [
    "(x_train, y_train), (x_test, y_test) = mnist.load_data()"
   ]
  },
  {
   "cell_type": "code",
   "execution_count": 4,
   "metadata": {},
   "outputs": [
    {
     "data": {
      "image/png": "[encoded data removed]",
      "text/plain": [
       "<Figure size 432x288 with 1 Axes>"
      ]
     },
     "metadata": {
      "needs_background": "light"
     },
     "output_type": "display_data"
    }
   ],
   "source": [
    "import matplotlib.pyplot as plt\n",
    "%matplotlib inline\n",
    "\n",
    "plt.imshow(x_train[1], cmap='gray')\n",
    "plt.show()"
   ]
  },
  {
   "cell_type": "code",
   "execution_count": 5,
   "metadata": {},
   "outputs": [
    {
     "data": {
      "image/png": "[encoded data removed]",
      "text/plain": [
       "<Figure size 1080x720 with 10 Axes>"
      ]
     },
     "metadata": {},
     "output_type": "display_data"
    }
   ],
   "source": [
    "fig = plt.figure(figsize=(15,10))\n",
    "\n",
    "i = 0\n",
    "for f in range(0, y_train.shape[0]):\n",
    "    if(y_train[f] == 1 and i < 10):\n",
    "        plt.subplot(2, 5, i+1)\n",
    "        plt.imshow(x_train[f], cmap='gray')\n",
    "        plt.xticks([])\n",
    "        plt.yticks([])\n",
    "        i = i + 1\n",
    "\n",
    "plt.show()"
   ]
  },
  {
   "cell_type": "code",
   "execution_count": 6,
   "metadata": {},
   "outputs": [
    {
     "name": "stdout",
     "output_type": "stream",
     "text": [
      "x_train: (60000, 28, 28)\n",
      "x_test: (10000, 28, 28)\n",
      "\n"
     ]
    }
   ],
   "source": [
    "print(\"x_train: {}\\nx_test: {}\\n\".format( \n",
    "x_train.shape, x_test.shape, ))"
   ]
  },
  {
   "cell_type": "code",
   "execution_count": 7,
   "metadata": {},
   "outputs": [],
   "source": [
    "if K.image_data_format() == 'channels_first':\n",
    "    x_train = x_train.reshape(x_train.shape[0], 1, im_row, im_col)\n",
    "    x_test = x_test.reshape(x_test.shape[0], 1, im_row, im_col)\n",
    "    input_shape = (1, im_row, im_col)\n",
    "else:\n",
    "    x_train = x_train.reshape(x_train.shape[0], im_row, im_col, 1)\n",
    "    x_test = x_test.reshape(x_test.shape[0], im_row, im_col, 1)\n",
    "    input_shape = (im_row, im_col, 1)"
   ]
  },
  {
   "cell_type": "code",
   "execution_count": 8,
   "metadata": {},
   "outputs": [
    {
     "name": "stdout",
     "output_type": "stream",
     "text": [
      "7\n"
     ]
    }
   ],
   "source": [
    "print(y_test[0])"
   ]
  },
  {
   "cell_type": "code",
   "execution_count": 9,
   "metadata": {},
   "outputs": [],
   "source": [
    "x_train = x_train.astype('float32')\n",
    "x_test = x_test.astype('float32')\n",
    "x_train /= 255\n",
    "x_test /= 255\n",
    "\n",
    "y_train = keras.utils.to_categorical(y_train, n_classes)\n",
    "y_test = keras.utils.to_categorical(y_test, n_classes)"
   ]
  },
  {
   "cell_type": "code",
   "execution_count": 10,
   "metadata": {},
   "outputs": [
    {
     "name": "stdout",
     "output_type": "stream",
     "text": [
      "x_train: (60000, 28, 28, 1)\n",
      "x_test: (10000, 28, 28, 1)\n",
      "input_shape: (28, 28, 1)\n",
      " # of training samples: 60000\n",
      "# of testing samples: 10000\n"
     ]
    }
   ],
   "source": [
    "print(\"x_train: {}\\nx_test: {}\\ninput_shape: {}\\n \\\n",
    "# of training samples: {}\\n# of testing samples: {}\".format( \n",
    "x_train.shape, x_test.shape, input_shape, x_train.shape[0], x_test.shape[0]))"
   ]
  },
  {
   "cell_type": "code",
   "execution_count": 11,
   "metadata": {},
   "outputs": [
    {
     "name": "stdout",
     "output_type": "stream",
     "text": [
      "Model: \"sequential\"\n",
      "_________________________________________________________________\n",
      " Layer (type)                Output Shape              Param #   \n",
      "=================================================================\n",
      " conv2d (Conv2D)             (None, 26, 26, 32)        320       \n",
      "                                                                 \n",
      " conv2d_1 (Conv2D)           (None, 24, 24, 64)        18496     \n",
      "                                                                 \n",
      " max_pooling2d (MaxPooling2D  (None, 12, 12, 64)       0         \n",
      " )                                                               \n",
      "                                                                 \n",
      " dropout (Dropout)           (None, 12, 12, 64)        0         \n",
      "                                                                 \n",
      " flatten (Flatten)           (None, 9216)              0         \n",
      "                                                                 \n",
      " dense (Dense)               (None, 128)               1179776   \n",
      "                                                                 \n",
      " dropout_1 (Dropout)         (None, 128)               0         \n",
      "                                                                 \n",
      " dense_1 (Dense)             (None, 10)                1290      \n",
      "                                                                 \n",
      "=================================================================\n",
      "Total params: 1,199,882\n",
      "Trainable params: 1,199,882\n",
      "Non-trainable params: 0\n",
      "_________________________________________________________________\n"
     ]
    },
    {
     "name": "stderr",
     "output_type": "stream",
     "text": [
      "2022-07-18 22:15:42.687471: I tensorflow/core/platform/cpu_feature_guard.cc:193] This TensorFlow binary is optimized with oneAPI Deep Neural Network Library (oneDNN) to use the following CPU instructions in performance-critical operations:  AVX2 FMA\n",
      "To enable them in other operations, rebuild TensorFlow with the appropriate compiler flags.\n"
     ]
    }
   ],
   "source": [
    "model = Sequential()\n",
    "model.add(Conv2D(32, kernel_size=(3, 3),\n",
    "                 activation='relu',\n",
    "                 input_shape=input_shape))\n",
    "model.add(Conv2D(64, (3, 3), activation='relu'))\n",
    "model.add(MaxPooling2D(pool_size=(2, 2)))\n",
    "model.add(Dropout(0.25))\n",
    "model.add(Flatten())\n",
    "model.add(Dense(128, activation='relu'))\n",
    "model.add(Dropout(0.5))\n",
    "model.add(Dense(n_classes, activation='softmax'))\n",
    "\n",
    "model.compile(loss=keras.losses.categorical_crossentropy,\n",
    "              optimizer=keras.optimizers.Adam(),\n",
    "              metrics=['accuracy'])\n",
    "\n",
    "model.summary()"
   ]
  },
  {
   "cell_type": "code",
   "execution_count": 12,
   "metadata": {},
   "outputs": [
    {
     "name": "stdout",
     "output_type": "stream",
     "text": [
      "Epoch 1/15\n",
      "469/469 [==============================] - 48s 100ms/step - loss: 0.2461 - accuracy: 0.9243 - val_loss: 0.0515 - val_accuracy: 0.9830\n",
      "Epoch 2/15\n",
      "469/469 [==============================] - 48s 103ms/step - loss: 0.0888 - accuracy: 0.9732 - val_loss: 0.0353 - val_accuracy: 0.9887\n",
      "Epoch 3/15\n",
      "469/469 [==============================] - 50s 106ms/step - loss: 0.0654 - accuracy: 0.9797 - val_loss: 0.0359 - val_accuracy: 0.9876\n",
      "Epoch 4/15\n",
      "469/469 [==============================] - 51s 109ms/step - loss: 0.0547 - accuracy: 0.9829 - val_loss: 0.0319 - val_accuracy: 0.9887\n",
      "Epoch 5/15\n",
      "469/469 [==============================] - 53s 113ms/step - loss: 0.0457 - accuracy: 0.9855 - val_loss: 0.0334 - val_accuracy: 0.9885\n",
      "Epoch 6/15\n",
      "469/469 [==============================] - 54s 116ms/step - loss: 0.0411 - accuracy: 0.9870 - val_loss: 0.0270 - val_accuracy: 0.9913\n",
      "Epoch 7/15\n",
      "469/469 [==============================] - 52s 111ms/step - loss: 0.0367 - accuracy: 0.9888 - val_loss: 0.0291 - val_accuracy: 0.9909\n",
      "Epoch 8/15\n",
      "469/469 [==============================] - 53s 112ms/step - loss: 0.0313 - accuracy: 0.9895 - val_loss: 0.0270 - val_accuracy: 0.9913\n",
      "Epoch 9/15\n",
      "469/469 [==============================] - 52s 111ms/step - loss: 0.0307 - accuracy: 0.9900 - val_loss: 0.0259 - val_accuracy: 0.9927\n",
      "Epoch 10/15\n",
      "469/469 [==============================] - 52s 111ms/step - loss: 0.0275 - accuracy: 0.9913 - val_loss: 0.0309 - val_accuracy: 0.9906\n",
      "Epoch 11/15\n",
      "469/469 [==============================] - 54s 114ms/step - loss: 0.0245 - accuracy: 0.9919 - val_loss: 0.0246 - val_accuracy: 0.9929\n",
      "Epoch 12/15\n",
      "469/469 [==============================] - 54s 115ms/step - loss: 0.0213 - accuracy: 0.9928 - val_loss: 0.0295 - val_accuracy: 0.9915\n",
      "Epoch 13/15\n",
      "469/469 [==============================] - 52s 112ms/step - loss: 0.0209 - accuracy: 0.9930 - val_loss: 0.0271 - val_accuracy: 0.9916\n",
      "Epoch 14/15\n",
      "469/469 [==============================] - 51s 110ms/step - loss: 0.0195 - accuracy: 0.9935 - val_loss: 0.0262 - val_accuracy: 0.9930\n",
      "Epoch 15/15\n",
      "469/469 [==============================] - 52s 110ms/step - loss: 0.0188 - accuracy: 0.9934 - val_loss: 0.0298 - val_accuracy: 0.9922\n",
      "Test loss: 0.029784979298710823\n",
      "Test accuracy: 0.9922000169754028\n"
     ]
    }
   ],
   "source": [
    "checkpoint = ModelCheckpoint(filepath=\"keras_MNIST_CNN.h5\",\n",
    "                               verbose=0,\n",
    "                               save_best_only=True)\n",
    "\n",
    "model.fit(x_train, y_train,\n",
    "          batch_size=batch_size,\n",
    "          epochs=n_epochs,\n",
    "          verbose=1,\n",
    "          validation_data=(x_test, y_test),\n",
    "          callbacks=[checkpoint])\n",
    "\n",
    "score = model.evaluate(x_test, y_test, verbose=0)\n",
    "print('Test loss:', score[0])\n",
    "print('Test accuracy:', score[1])"
   ]
  },
  {
   "cell_type": "code",
   "execution_count": 13,
   "metadata": {},
   "outputs": [
    {
     "name": "stdout",
     "output_type": "stream",
     "text": [
      "313/313 [==============================] - 2s 5ms/step\n",
      "AUC: 99.59%\n"
     ]
    }
   ],
   "source": [
    "from sklearn.metrics import roc_auc_score\n",
    "\n",
    "preds = model.predict(x_test)\n",
    "auc = roc_auc_score(np.round(preds), y_test)\n",
    "print(\"AUC: {:.2%}\".format (auc))"
   ]
  },
  {
   "cell_type": "code",
   "execution_count": 14,
   "metadata": {},
   "outputs": [
    {
     "data": {
      "text/plain": [
       "array([[0., 0., 0., ..., 1., 0., 0.],\n",
       "       [0., 0., 1., ..., 0., 0., 0.],\n",
       "       [0., 1., 0., ..., 0., 0., 0.],\n",
       "       ...,\n",
       "       [0., 0., 0., ..., 0., 0., 0.],\n",
       "       [0., 0., 0., ..., 0., 0., 0.],\n",
       "       [0., 0., 0., ..., 0., 0., 0.]], dtype=float32)"
      ]
     },
     "execution_count": 14,
     "metadata": {},
     "output_type": "execute_result"
    }
   ],
   "source": [
    "np.round(preds)"
   ]
  },
  {
   "cell_type": "code",
   "execution_count": 15,
   "metadata": {},
   "outputs": [
    {
     "name": "stdout",
     "output_type": "stream",
     "text": [
      "313/313 [==============================] - 2s 5ms/step\n",
      "Predictions for x_test[0]: [6.23034952e-17 1.54361468e-13 4.55795178e-13 7.20108218e-12\n",
      " 3.64400435e-15 1.16590729e-15 5.15215988e-22 1.00000000e+00\n",
      " 1.11638835e-17 4.29887159e-12]\n",
      "\n",
      "Actual label for x_test[0]: [0. 0. 0. 0. 0. 0. 0. 1. 0. 0.]\n",
      "\n",
      "Predictions for x_test[0] after rounding: [0. 0. 0. 0. 0. 0. 0. 1. 0. 0.]\n",
      "\n"
     ]
    }
   ],
   "source": [
    "\n",
    "preds = model.predict(x_test)\n",
    "print(\"Predictions for x_test[0]: {}\\n\\nActual label for x_test[0]: {}\\n\".format(preds[0], y_test[0]))\n",
    "print(\"Predictions for x_test[0] after rounding: {}\\n\".format(np.round(preds)[0]))\n"
   ]
  },
  {
   "cell_type": "code",
   "execution_count": 16,
   "metadata": {},
   "outputs": [
    {
     "name": "stdout",
     "output_type": "stream",
     "text": [
      "1875/1875 [==============================] - 15s 8ms/step\n"
     ]
    },
    {
     "data": {
      "image/png": "[encoded data removed]",
      "text/plain": [
       "<Figure size 1080x720 with 3 Axes>"
      ]
     },
     "metadata": {},
     "output_type": "display_data"
    }
   ],
   "source": [
    "from keras import models\n",
    "\n",
    "layers = [layer.output for layer in model.layers[:4]] \n",
    "model_layers = models.Model(inputs=model.input, outputs=layers) \n",
    "activations = model_layers.predict(x_train) \n",
    "\n",
    "fig = plt.figure(figsize=(15,10))\n",
    "\n",
    "plt.subplot(1, 3, 1)\n",
    "plt.title(\"Original\")\n",
    "plt.imshow(x_train[7].reshape(28, 28), cmap='gray')\n",
    "plt.xticks([])\n",
    "plt.yticks([])\n",
    "\n",
    "for f in range(1, 3):\n",
    "    plt.subplot(1, 3, f+1)\n",
    "    plt.title(\"Convolutional layer %d\" % f)\n",
    "    layer_activation = activations[f]\n",
    "    plt.imshow(layer_activation[7, :, :, 0], cmap='gray')\n",
    "    plt.xticks([])\n",
    "    plt.yticks([])\n",
    "\n",
    "plt.show()\n"
   ]
  },
  {
   "cell_type": "code",
   "execution_count": 17,
   "metadata": {},
   "outputs": [
    {
     "data": {
      "image/png": "[encoded data removed]",
      "text/plain": [
       "<Figure size 1080x720 with 3 Axes>"
      ]
     },
     "metadata": {},
     "output_type": "display_data"
    }
   ],
   "source": [
    "fig = plt.figure(figsize=(15,10))\n",
    "\n",
    "plt.subplot(1, 3, 1)\n",
    "plt.title(\"Original\")\n",
    "plt.imshow(x_train[7].reshape(28, 28), cmap='gray')\n",
    "plt.xticks([])\n",
    "plt.yticks([])\n",
    "\n",
    "for f in range(1, 3):\n",
    "    plt.subplot(1, 3, f+1)\n",
    "    plt.title(\"Convolutional layer %d\" % f)\n",
    "    layer_activation = activations[f]\n",
    "    plt.imshow(layer_activation[7, :, :, 0], cmap='gray')\n",
    "    plt.xticks([])\n",
    "    plt.yticks([])\n",
    "\n",
    "plt.show()"
   ]
  },
  {
   "cell_type": "code",
   "execution_count": 18,
   "metadata": {},
   "outputs": [
    {
     "name": "stdout",
     "output_type": "stream",
     "text": [
      "(60000, 12, 12, 64)\n"
     ]
    },
    {
     "data": {
      "text/plain": [
       "<matplotlib.image.AxesImage at 0x7f906be6a8b0>"
      ]
     },
     "execution_count": 18,
     "metadata": {},
     "output_type": "execute_result"
    },
    {
     "data": {
      "image/png": "[encoded data removed]",
      "text/plain": [
       "<Figure size 432x288 with 1 Axes>"
      ]
     },
     "metadata": {
      "needs_background": "light"
     },
     "output_type": "display_data"
    }
   ],
   "source": [
    "first_layer_activation = activations[2]\n",
    "print(first_layer_activation.shape)\n",
    "plt.imshow(first_layer_activation[1, :, :, 4], cmap='gray')"
   ]
  },
  {
   "cell_type": "code",
   "execution_count": 19,
   "metadata": {},
   "outputs": [
    {
     "name": "stdout",
     "output_type": "stream",
     "text": [
      "Epoch 1/15\n",
      "469/469 [==============================] - 47s 100ms/step - loss: 0.0181 - accuracy: 0.9941 - val_loss: 0.0296 - val_accuracy: 0.9921\n",
      "Epoch 2/15\n",
      "469/469 [==============================] - 48s 103ms/step - loss: 0.0172 - accuracy: 0.9944 - val_loss: 0.0247 - val_accuracy: 0.9925\n",
      "Epoch 3/15\n",
      "469/469 [==============================] - 47s 101ms/step - loss: 0.0168 - accuracy: 0.9944 - val_loss: 0.0270 - val_accuracy: 0.9931\n",
      "Epoch 4/15\n",
      "469/469 [==============================] - 49s 105ms/step - loss: 0.0141 - accuracy: 0.9950 - val_loss: 0.0282 - val_accuracy: 0.9929\n",
      "Epoch 5/15\n",
      "469/469 [==============================] - 48s 103ms/step - loss: 0.0141 - accuracy: 0.9951 - val_loss: 0.0345 - val_accuracy: 0.9926\n",
      "Epoch 6/15\n",
      "469/469 [==============================] - 44s 94ms/step - loss: 0.0129 - accuracy: 0.9958 - val_loss: 0.0273 - val_accuracy: 0.9935\n",
      "Epoch 7/15\n",
      "469/469 [==============================] - 48s 102ms/step - loss: 0.0124 - accuracy: 0.9958 - val_loss: 0.0319 - val_accuracy: 0.9929\n",
      "Epoch 8/15\n",
      "469/469 [==============================] - 49s 105ms/step - loss: 0.0126 - accuracy: 0.9958 - val_loss: 0.0308 - val_accuracy: 0.9929\n",
      "Epoch 9/15\n",
      "469/469 [==============================] - 47s 101ms/step - loss: 0.0120 - accuracy: 0.9960 - val_loss: 0.0328 - val_accuracy: 0.9929\n",
      "Epoch 10/15\n",
      "469/469 [==============================] - 46s 98ms/step - loss: 0.0112 - accuracy: 0.9963 - val_loss: 0.0292 - val_accuracy: 0.9931\n",
      "Epoch 11/15\n",
      "469/469 [==============================] - 48s 102ms/step - loss: 0.0108 - accuracy: 0.9963 - val_loss: 0.0331 - val_accuracy: 0.9938\n",
      "Epoch 12/15\n",
      "469/469 [==============================] - 47s 99ms/step - loss: 0.0106 - accuracy: 0.9963 - val_loss: 0.0284 - val_accuracy: 0.9940\n",
      "Epoch 13/15\n",
      "469/469 [==============================] - 46s 98ms/step - loss: 0.0096 - accuracy: 0.9967 - val_loss: 0.0326 - val_accuracy: 0.9933\n",
      "Epoch 14/15\n",
      "469/469 [==============================] - 45s 96ms/step - loss: 0.0113 - accuracy: 0.9962 - val_loss: 0.0286 - val_accuracy: 0.9935\n",
      "Epoch 15/15\n",
      "469/469 [==============================] - 45s 96ms/step - loss: 0.0094 - accuracy: 0.9970 - val_loss: 0.0326 - val_accuracy: 0.9931\n",
      "Test loss: 0.03263461962342262\n",
      "Test accuracy: 0.9930999875068665\n"
     ]
    }
   ],
   "source": [
    "\n",
    "model.fit(x_train, y_train,\n",
    "          batch_size=batch_size,\n",
    "          epochs=n_epochs,\n",
    "          verbose=1,\n",
    "          validation_data=(x_test, y_test))\n",
    "\n",
    "score = model.evaluate(x_test, y_test, verbose=0)\n",
    "print('Test loss:', score[0])\n",
    "print('Test accuracy:', score[1])\n"
   ]
  },
  {
   "cell_type": "code",
   "execution_count": null,
   "metadata": {},
   "outputs": [],
   "source": []
  }
 ],
 "metadata": {
  "kernelspec": {
   "display_name": "Python 3 (ipykernel)",
   "language": "python",
   "name": "python3"
  },
  "language_info": {
   "codemirror_mode": {
    "name": "ipython",
    "version": 3
   },
   "file_extension": ".py",
   "mimetype": "text/x-python",
   "name": "python",
   "nbconvert_exporter": "python",
   "pygments_lexer": "ipython3",
   "version": "3.8.13"
  }
 },
 "nbformat": 4,
 "nbformat_minor": 4
}
