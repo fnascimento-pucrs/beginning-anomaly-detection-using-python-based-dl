{
 "cells": [
  {
   "cell_type": "code",
   "execution_count": 1,
   "metadata": {},
   "outputs": [
    {
     "data": {
      "text/plain": [
       "tensor([0, 2, 7, 2, 2])"
      ]
     },
     "execution_count": 1,
     "metadata": {},
     "output_type": "execute_result"
    }
   ],
   "source": [
    "import torch\n",
    "import torch.nn\n",
    "import numpy as np\n",
    "\n",
    "a = np.random.randint(0, 10, 5)\n",
    "a = torch.tensor(a)\n",
    "a"
   ]
  },
  {
   "cell_type": "code",
   "execution_count": 2,
   "metadata": {},
   "outputs": [
    {
     "data": {
      "text/plain": [
       "tensor([7, 5, 0, 8, 0])"
      ]
     },
     "execution_count": 2,
     "metadata": {},
     "output_type": "execute_result"
    }
   ],
   "source": [
    "b = torch.tensor(np.random.randint(0, 10, 5))\n",
    "b"
   ]
  },
  {
   "cell_type": "code",
   "execution_count": 3,
   "metadata": {},
   "outputs": [
    {
     "data": {
      "text/plain": [
       "(tensor([ 7,  7,  7, 10,  2]), tensor(33))"
      ]
     },
     "execution_count": 3,
     "metadata": {},
     "output_type": "execute_result"
    }
   ],
   "source": [
    "c = torch.add(a, b)\n",
    "c_summed = torch.sum(c)\n",
    "\n",
    "c, c_summed"
   ]
  },
  {
   "cell_type": "code",
   "execution_count": 4,
   "metadata": {},
   "outputs": [
    {
     "data": {
      "text/plain": [
       "tensor([1.0000, 0.9999, 0.0000, 1.0000, 0.0000])"
      ]
     },
     "execution_count": 4,
     "metadata": {},
     "output_type": "execute_result"
    }
   ],
   "source": [
    "d = torch.tanh(b.float())\n",
    "d"
   ]
  },
  {
   "cell_type": "code",
   "execution_count": 5,
   "metadata": {},
   "outputs": [
    {
     "data": {
      "text/plain": [
       "tensor(0.6000)"
      ]
     },
     "execution_count": 5,
     "metadata": {},
     "output_type": "execute_result"
    }
   ],
   "source": [
    "torch.mean(d)"
   ]
  },
  {
   "cell_type": "code",
   "execution_count": 6,
   "metadata": {},
   "outputs": [
    {
     "name": "stderr",
     "output_type": "stream",
     "text": [
      "2023-02-22 00:15:39.584961: I tensorflow/core/platform/cpu_feature_guard.cc:193] This TensorFlow binary is optimized with oneAPI Deep Neural Network Library (oneDNN) to use the following CPU instructions in performance-critical operations:  AVX2 FMA\n",
      "To enable them in other operations, rebuild TensorFlow with the appropriate compiler flags.\n"
     ]
    },
    {
     "name": "stdout",
     "output_type": "stream",
     "text": [
      "tf.Tensor([[3 2 6 6 3]], shape=(1, 5), dtype=int32)\n",
      "tf.Tensor([[8 3 6 7 0]], shape=(1, 5), dtype=int32)\n"
     ]
    },
    {
     "name": "stderr",
     "output_type": "stream",
     "text": [
      "2023-02-22 00:15:52.076931: I tensorflow/core/platform/cpu_feature_guard.cc:193] This TensorFlow binary is optimized with oneAPI Deep Neural Network Library (oneDNN) to use the following CPU instructions in performance-critical operations:  AVX2 FMA\n",
      "To enable them in other operations, rebuild TensorFlow with the appropriate compiler flags.\n"
     ]
    },
    {
     "ename": "NameError",
     "evalue": "name 'A' is not defined",
     "output_type": "error",
     "traceback": [
      "\u001b[0;31m---------------------------------------------------------------------------\u001b[0m",
      "\u001b[0;31mNameError\u001b[0m                                 Traceback (most recent call last)",
      "Cell \u001b[0;32mIn[6], line 8\u001b[0m\n\u001b[1;32m      6\u001b[0m g \u001b[39m=\u001b[39m tf\u001b[39m.\u001b[39mconstant(np\u001b[39m.\u001b[39mrandom\u001b[39m.\u001b[39mrandint(\u001b[39m0\u001b[39m, \u001b[39m10\u001b[39m, \u001b[39m5\u001b[39m), shape\u001b[39m=\u001b[39m(\u001b[39m1\u001b[39m, \u001b[39m5\u001b[39m), dtype\u001b[39m=\u001b[39mtf\u001b[39m.\u001b[39mint32)\n\u001b[1;32m      7\u001b[0m \u001b[39mprint\u001b[39m(g)\n\u001b[0;32m----> 8\u001b[0m result \u001b[39m=\u001b[39m A \u001b[39m+\u001b[39m B\n\u001b[1;32m      9\u001b[0m tanh \u001b[39m=\u001b[39m tf\u001b[39m.\u001b[39mtanh(tf\u001b[39m.\u001b[39mto_float(result))\n\u001b[1;32m     12\u001b[0m \u001b[39mwith\u001b[39;00m tf\u001b[39m.\u001b[39mSession() \u001b[39mas\u001b[39;00m sess:\n",
      "\u001b[0;31mNameError\u001b[0m: name 'A' is not defined"
     ]
    }
   ],
   "source": [
    "import tensorflow as tf\n",
    "import numpy as np\n",
    "\n",
    "f = tf.constant(np.random.randint(0, 10, 5), shape=(1, 5), dtype=tf.int32)\n",
    "print(f)\n",
    "g = tf.constant(np.random.randint(0, 10, 5), shape=(1, 5), dtype=tf.int32)\n",
    "print(g)\n",
    "result = A + B\n",
    "tanh = tf.tanh(tf.to_float(result))\n",
    "\n",
    "\n",
    "with tf.Session() as sess:\n",
    "    print(\"f: {}    g: {}\\n\".format(sess.run(f), sess.run(g)))\n",
    "    print(\"f + g: {}\\n\".format(sess.run(result)))\n",
    "    print(\"tanh(f+g): {}\".format(sess.run(tanh)))"
   ]
  },
  {
   "cell_type": "code",
   "execution_count": 79,
   "metadata": {},
   "outputs": [],
   "source": [
    "### Example on MNIST"
   ]
  },
  {
   "cell_type": "code",
   "execution_count": 12,
   "metadata": {},
   "outputs": [],
   "source": [
    "import torch\n",
    "import torch.nn as nn\n",
    "import torchvision\n",
    "import torchvision.transforms as transforms\n",
    "import torch.optim as optim\n",
    "import torch.nn.functional as F\n",
    "import numpy as np\n",
    "\n",
    "#device = torch.device('cuda:0' if torch.cuda.is_available() else 'cpu')\n",
    "device = 'cpu'"
   ]
  },
  {
   "cell_type": "code",
   "execution_count": 8,
   "metadata": {},
   "outputs": [],
   "source": [
    "\n",
    "class CNN(nn.Module):\n",
    "    def __init__(self):\n",
    "        super(CNN, self).__init__()\n",
    "        self.conv1 = nn.Conv2d(1, 32, 3, 1)\n",
    "        self.conv2 = nn.Conv2d(32, 64, 3, 1)\n",
    "        self.dense1 = nn.Linear(12*12*64, 128)\n",
    "        self.dense2 = nn.Linear(128, num_classes)\n",
    "\n",
    "    def forward(self, x):\n",
    "        x = F.relu(self.conv1(x))\n",
    "        x = F.relu(self.conv2(x))\n",
    "        x = F.max_pool2d(x, 2, 2)\n",
    "        x = F.dropout(x, 0.25)\n",
    "        x = x.view(-1, 12*12*64)\n",
    "        x = F.relu(self.dense1(x))\n",
    "        x = F.dropout(x, 0.5)\n",
    "        x = self.dense2(x)\n",
    "        return F.log_softmax(x, dim=1)\n",
    "\n"
   ]
  },
  {
   "cell_type": "code",
   "execution_count": 9,
   "metadata": {},
   "outputs": [],
   "source": [
    "def train(model, device, train_loader, criterion, optimizer, epoch, save_dir='model.ckpt'):\n",
    "    total_step = len(train_loader)\n",
    "    for i, (images, labels) in enumerate(train_loader):\n",
    "        images = images.to(device)\n",
    "        labels = labels.to(device)\n",
    "        \n",
    "        # Forward pass\n",
    "        outputs = model(images)\n",
    "        loss = criterion(outputs, labels)\n",
    "        \n",
    "        # Backward and optimize\n",
    "        optimizer.zero_grad()\n",
    "        loss.backward()\n",
    "        optimizer.step()\n",
    "        \n",
    "        if (i+1) % 100 == 0:\n",
    "            print ('Epoch [{}/{}], Step [{}/{}], Loss: {:.4f}' \n",
    "                   .format(epoch+1, num_epochs, i+1, total_step, loss.item()))\n",
    "            \n",
    "    torch.save(model.state_dict(), 'pytorch_mnist_cnn.ckpt')"
   ]
  },
  {
   "cell_type": "code",
   "execution_count": 10,
   "metadata": {},
   "outputs": [],
   "source": [
    "from sklearn.metrics import roc_auc_score\n",
    "\n",
    "def test(model, device, test_loader):\n",
    "    \n",
    "    preds = []\n",
    "    y_true = []\n",
    "    # Test the model\n",
    "    model.eval()  # Set model to evaluation mode.\n",
    "    with torch.no_grad():\n",
    "        correct = 0\n",
    "        total = 0\n",
    "        for images, labels in test_loader:\n",
    "            images = images.to(device)\n",
    "            labels = labels.to(device)\n",
    "            outputs = model(images)\n",
    "            _, predicted = torch.max(outputs.data, 1)\n",
    "            total += labels.size(0)\n",
    "            correct += (predicted == labels).sum().item()    \n",
    "            detached_pred = predicted.detach().cpu().numpy()\n",
    "            detached_label = labels.detach().cpu().numpy()\n",
    "            for f in range(0, len(detached_pred)):\n",
    "                preds.append(detached_pred[f])\n",
    "                y_true.append(detached_label[f])\n",
    "\n",
    "        print('Test Accuracy of the model on the 10000 test images: {:.2%}'.format(correct / total))\n",
    "\n",
    "        preds = np.eye(num_classes)[preds]\n",
    "        y_true = np.eye(num_classes)[y_true]    \n",
    "        auc = roc_auc_score(preds, y_true)\n",
    "        print(\"AUC: {:.2%}\".format (auc))\n",
    "        "
   ]
  },
  {
   "cell_type": "code",
   "execution_count": 11,
   "metadata": {},
   "outputs": [
    {
     "name": "stdout",
     "output_type": "stream",
     "text": [
      "Epoch [1/15], Step [100/469], Loss: 0.2640\n",
      "Epoch [1/15], Step [200/469], Loss: 0.1597\n",
      "Epoch [1/15], Step [300/469], Loss: 0.1254\n",
      "Epoch [1/15], Step [400/469], Loss: 0.0510\n",
      "Epoch [2/15], Step [100/469], Loss: 0.0862\n",
      "Epoch [2/15], Step [200/469], Loss: 0.0654\n",
      "Epoch [2/15], Step [300/469], Loss: 0.1176\n",
      "Epoch [2/15], Step [400/469], Loss: 0.1426\n",
      "Epoch [3/15], Step [100/469], Loss: 0.0438\n",
      "Epoch [3/15], Step [200/469], Loss: 0.0462\n",
      "Epoch [3/15], Step [300/469], Loss: 0.0755\n",
      "Epoch [3/15], Step [400/469], Loss: 0.1518\n",
      "Epoch [4/15], Step [100/469], Loss: 0.0198\n",
      "Epoch [4/15], Step [200/469], Loss: 0.0836\n",
      "Epoch [4/15], Step [300/469], Loss: 0.0723\n",
      "Epoch [4/15], Step [400/469], Loss: 0.0624\n",
      "Epoch [5/15], Step [100/469], Loss: 0.0445\n",
      "Epoch [5/15], Step [200/469], Loss: 0.0584\n",
      "Epoch [5/15], Step [300/469], Loss: 0.0313\n",
      "Epoch [5/15], Step [400/469], Loss: 0.0630\n",
      "Epoch [6/15], Step [100/469], Loss: 0.0721\n",
      "Epoch [6/15], Step [200/469], Loss: 0.0480\n",
      "Epoch [6/15], Step [300/469], Loss: 0.1003\n",
      "Epoch [6/15], Step [400/469], Loss: 0.0593\n",
      "Epoch [7/15], Step [100/469], Loss: 0.0089\n",
      "Epoch [7/15], Step [200/469], Loss: 0.0824\n",
      "Epoch [7/15], Step [300/469], Loss: 0.0129\n",
      "Epoch [7/15], Step [400/469], Loss: 0.0668\n",
      "Epoch [8/15], Step [100/469], Loss: 0.0044\n",
      "Epoch [8/15], Step [200/469], Loss: 0.0208\n",
      "Epoch [8/15], Step [300/469], Loss: 0.0093\n",
      "Epoch [8/15], Step [400/469], Loss: 0.0110\n",
      "Epoch [9/15], Step [100/469], Loss: 0.0146\n",
      "Epoch [9/15], Step [200/469], Loss: 0.0208\n",
      "Epoch [9/15], Step [300/469], Loss: 0.0303\n",
      "Epoch [9/15], Step [400/469], Loss: 0.0148\n",
      "Epoch [10/15], Step [100/469], Loss: 0.0227\n",
      "Epoch [10/15], Step [200/469], Loss: 0.0885\n",
      "Epoch [10/15], Step [300/469], Loss: 0.0569\n",
      "Epoch [10/15], Step [400/469], Loss: 0.0449\n",
      "Epoch [11/15], Step [100/469], Loss: 0.0095\n",
      "Epoch [11/15], Step [200/469], Loss: 0.0475\n",
      "Epoch [11/15], Step [300/469], Loss: 0.0331\n",
      "Epoch [11/15], Step [400/469], Loss: 0.0158\n",
      "Epoch [12/15], Step [100/469], Loss: 0.0173\n",
      "Epoch [12/15], Step [200/469], Loss: 0.0256\n",
      "Epoch [12/15], Step [300/469], Loss: 0.0488\n",
      "Epoch [12/15], Step [400/469], Loss: 0.0814\n",
      "Epoch [13/15], Step [100/469], Loss: 0.0253\n",
      "Epoch [13/15], Step [200/469], Loss: 0.0145\n",
      "Epoch [13/15], Step [300/469], Loss: 0.0461\n",
      "Epoch [13/15], Step [400/469], Loss: 0.0075\n",
      "Epoch [14/15], Step [100/469], Loss: 0.0670\n",
      "Epoch [14/15], Step [200/469], Loss: 0.0294\n",
      "Epoch [14/15], Step [300/469], Loss: 0.0246\n",
      "Epoch [14/15], Step [400/469], Loss: 0.0129\n",
      "Epoch [15/15], Step [100/469], Loss: 0.0108\n",
      "Epoch [15/15], Step [200/469], Loss: 0.0114\n",
      "Epoch [15/15], Step [300/469], Loss: 0.0369\n",
      "Epoch [15/15], Step [400/469], Loss: 0.0035\n",
      "Test Accuracy of the model on the 10000 test images: 98.58%\n",
      "AUC: 99.22%\n"
     ]
    }
   ],
   "source": [
    "#### Hyperparameters\n",
    "num_epochs = 15\n",
    "num_classes = 10\n",
    "batch_size = 128\n",
    "learning_rate = 0.001\n",
    "\n",
    "# Load MNIST data set\n",
    "train_dataset = torchvision.datasets.MNIST(root='../../data/',\n",
    "                                           train=True, \n",
    "                                           transform=transforms.ToTensor(),\n",
    "                                           download=True)\n",
    "\n",
    "test_dataset = torchvision.datasets.MNIST(root='../../data/',\n",
    "                                          train=False, \n",
    "                                          transform=transforms.ToTensor())\n",
    "\n",
    "# Data loader\n",
    "train_loader = torch.utils.data.DataLoader(dataset=train_dataset,\n",
    "                                           batch_size=batch_size, \n",
    "                                           shuffle=True)\n",
    "\n",
    "test_loader = torch.utils.data.DataLoader(dataset=test_dataset,\n",
    "                                          batch_size=batch_size, \n",
    "                                          shuffle=False)\n",
    "\n",
    "\n",
    "\n",
    "model = CNN().to(device)\n",
    "criterion = nn.CrossEntropyLoss()\n",
    "optimizer = torch.optim.Adam(model.parameters(), lr=learning_rate)\n",
    "\n",
    "\n",
    "## Training phase\n",
    "\n",
    "for epoch in range(0, num_epochs):\n",
    "    train(model, device, train_loader, criterion, optimizer, epoch)\n",
    "    \n",
    "## Testing phase\n",
    "\n",
    "\n",
    "test(model, device, test_loader)"
   ]
  },
  {
   "cell_type": "code",
   "execution_count": null,
   "metadata": {},
   "outputs": [],
   "source": [
    "## sequential\n",
    "import torch.nn as nn\n",
    "\n",
    "model = nn.Sequential(\n",
    "            nn.Conv2d(1, 32, 3, 1),\n",
    "            nn.ReLU(),\n",
    "            nn.Conv2d(32, 64, 3, 1),\n",
    "            nn.Sigmoid()\n",
    "            )\n",
    "\n",
    "## ModuleList\n",
    "\n",
    "class ModuleListModel(nn.Module):\n",
    "    def __init__(self):\n",
    "        super(ModuleListModel, self).__init__()\n",
    "        self.conv_1 = nn.Conv2d(1, 32, 3, 1)\n",
    "        self.conv_2 = nn.Conv2d(32, 64, 3, 1)\n",
    "        self.dense_1 = nn.Linear(64*64, 128)\n",
    "        self.output = nn.Linear(128, n_classes)\n",
    "        \n",
    "        \n",
    "    def forward(self, x):\n",
    "        x = nn.functional.relu(self.conv_1(x))\n",
    "        x = nn.functional.relu(self.conv_2(x))\n",
    "        x = nn.functional.max_pool2d(x, 2, 2)\n",
    "        x = nn.functional.dropout(x, 0.25)\n",
    "        x = x.view(-1, 64*64)\n",
    "        x = nn.functional.reu(self.dense_1(x))\n",
    "        x = nn.functional.dropout(x, 0.5)\n",
    "        x = nn.functional.log_softmax(self.output(x), dim=1)\n",
    "        return x\n",
    "    \n",
    "\n",
    "model = ModuleListModel().to(device)"
   ]
  },
  {
   "cell_type": "code",
   "execution_count": null,
   "metadata": {},
   "outputs": [],
   "source": [
    "def forward(self, x):\n",
    "    x = nn.functional.relu(self.conv_1(x))\n",
    "    x = nn.functional.dropout(x, 0.25)\n",
    "    x = nn.functional.relu(self.conv_2(x))\n",
    "    ..."
   ]
  },
  {
   "cell_type": "code",
   "execution_count": null,
   "metadata": {},
   "outputs": [],
   "source": [
    "def forward(self, x):\n",
    "    ...\n",
    "    x = nn.functional.dropout(x, 0.5)\n",
    "    x = nn.functional.softmax(self.dense_1(x), dim=1)\n",
    "    return x\n",
    "    "
   ]
  },
  {
   "cell_type": "code",
   "execution_count": null,
   "metadata": {},
   "outputs": [],
   "source": [
    "def forward(self, x):\n",
    "    ...\n",
    "    x = nn.functional.dropout(x, 0.5)\n",
    "    x = nn.functional.log_softmax(self.dense_1(x), dim=1)\n",
    "    return x"
   ]
  },
  {
   "cell_type": "code",
   "execution_count": null,
   "metadata": {},
   "outputs": [],
   "source": [
    "def forward(self, x):\n",
    "    ...\n",
    "    x = nn.functional.dropout(x, 0.5)\n",
    "    x = nn.functional.sigmoid(self.dense_1(x), dim=1)\n",
    "    return x"
   ]
  }
 ],
 "metadata": {
  "kernelspec": {
   "display_name": "MLexercises",
   "language": "python",
   "name": "python3"
  },
  "language_info": {
   "codemirror_mode": {
    "name": "ipython",
    "version": 3
   },
   "file_extension": ".py",
   "mimetype": "text/x-python",
   "name": "python",
   "nbconvert_exporter": "python",
   "pygments_lexer": "ipython3",
   "version": "3.9.13"
  },
  "vscode": {
   "interpreter": {
    "hash": "6b91672bcdb4d7f241b2bf60f3821b586a11a72253ad4d067f21d4535f636007"
   }
  }
 },
 "nbformat": 4,
 "nbformat_minor": 4
}
